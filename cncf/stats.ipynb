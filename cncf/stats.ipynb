{
 "cells": [
  {
   "cell_type": "code",
   "execution_count": null,
   "metadata": {},
   "outputs": [],
   "source": [
    "from itables import init_notebook_mode\n",
    "import pandas as pd\n",
    "init_notebook_mode(all_interactive=True)"
   ]
  },
  {
   "cell_type": "code",
   "execution_count": 12,
   "metadata": {},
   "outputs": [
    {
     "data": {
      "text/html": [
       "<style>.itables table td {\n",
       "    text-overflow: ellipsis;\n",
       "    overflow: hidden;\n",
       "}\n",
       "\n",
       ".itables table th {\n",
       "    text-overflow: ellipsis;\n",
       "    overflow: hidden;\n",
       "}\n",
       "\n",
       ".itables thead input {\n",
       "    width: 100%;\n",
       "    padding: 3px;\n",
       "    box-sizing: border-box;\n",
       "}\n",
       "\n",
       ".itables tfoot input {\n",
       "    width: 100%;\n",
       "    padding: 3px;\n",
       "    box-sizing: border-box;\n",
       "}\n",
       "</style>\n",
       "<div class=\"itables\">\n",
       "<table id=\"f8167a35-94a5-48c0-b558-31cf0c3fe896\" class=\"display nowrap\"style=\"table-layout:auto;width:auto;margin:auto;caption-side:bottom\"><thead>\n",
       "    <tr style=\"text-align: right;\">\n",
       "      \n",
       "      <th>repo</th>\n",
       "      <th>stars</th>\n",
       "      <th>language</th>\n",
       "      <th>archived</th>\n",
       "      <th>dependencies</th>\n",
       "      <th>status</th>\n",
       "    </tr>\n",
       "  </thead><tbody><tr><td>Loading... (need <a href=https://mwouts.github.io/itables/troubleshooting.html>help</a>?)</td></tr></tbody></table>\n",
       "<script>\n",
       "    // We use a namespace per table (= the next curly bracket)\n",
       "    // to avoid conflicts between the various tables' data & dt_args\n",
       "    {\n",
       "        // Define the table data\n",
       "        const data = [[\"brigadecore/brigade\", 2384, \"Go\", false, 0, \"Archived\"], [\"openebs/openebs\", 8285, \"NaN\", false, 0, \"Sandbox\"], [\"strimzi/strimzi-kafka-operator\", 3996, \"Java\", false, 0, \"Sandbox\"], [\"curiefense/curiefense\", 661, \"Rust\", false, 0, \"Sandbox\"], [\"meshery/meshery\", 2898, \"Go\", false, 59, \"Sandbox\"], [\"confidential-containers/operator\", 67, \"Go\", false, 7, \"Sandbox\"], [\"clusterpedia-io/clusterpedia\", 646, \"Go\", false, 35, \"Sandbox\"], [\"opencurve/curve\", 1998, \"C++\", false, 0, \"Sandbox\"], [\"parallaxsecond/parsec\", 417, \"Rust\", false, 0, \"Sandbox\"], [\"keylime/keylime\", 345, \"Python\", false, 0, \"Sandbox\"], [\"antrea-io/antrea\", 1516, \"Go\", false, 79, \"Sandbox\"], [\"hexa-org/policy-orchestrator\", 72, \"Go\", false, 29, \"Sandbox\"], [\"lima-vm/lima\", 12417, \"Go\", false, 43, \"Sandbox\"], [\"merbridge/merbridge\", 659, \"Go\", false, 16, \"Sandbox\"], [\"kubernetes/kubernetes\", 101218, \"Go\", false, 120, \"Graduated\"], [\"envoyproxy/envoy\", 22631, \"C++\", false, 0, \"Graduated\"], [\"cloudevents/spec\", 4318, \"Python\", false, 0, \"Incubating\"], [\"kubeedge/kubeedge\", 5993, \"Go\", false, 53, \"Incubating\"], [\"openservicemesh/osm\", 2589, \"Go\", true, 62, \"Archived\"], [\"vscode-kubernetes-tools/vscode-kubernetes-tools\", 623, \"TypeScript\", false, 0, \"Sandbox\"], [\"carina-io/carina\", 625, \"Go\", false, 28, \"Sandbox\"], [\"pipe-cd/pipecd\", 813, \"Go\", false, 54, \"Sandbox\"], [\"containernetworking/cni\", 5002, \"Go\", false, 3, \"Incubating\"], [\"open-policy-agent/opa\", 8384, \"Go\", false, 41, \"Graduated\"], [\"operator-framework/operator-sdk\", 6676, \"Go\", false, 42, \"Incubating\"], [\"kuberhealthy/kuberhealthy\", 1763, \"Go\", false, 17, \"Sandbox\"], [\"prometheus/prometheus\", 49665, \"Go\", false, 84, \"Graduated\"], [\"spiffe/spire\", 1484, \"Go\", false, 80, \"Graduated\"], [\"dexidp/dex\", 8378, \"Go\", false, 36, \"Sandbox\"], [\"backstage/backstage\", 23034, \"TypeScript\", false, 0, \"Incubating\"], [\"devspace-cloud/devspace-cloud\", 95, \"Open Policy Agent\", false, 0, \"Sandbox\"], [\"clastix/capsule\", 1261, \"Go\", false, 17, \"Sandbox\"], [\"project-zot/zot\", 467, \"Go\", false, 66, \"Sandbox\"], [\"headlamp-k8s/headlamp\", 1129, \"TypeScript\", false, 0, \"Sandbox\"], [\"fluent/fluentd\", 12155, \"Ruby\", false, 0, \"Graduated\"], [\"getporter/porter\", 1044, \"Go\", false, 64, \"Sandbox\"], [\"aeraki-mesh/aeraki\", 688, \"Go\", false, 28, \"Sandbox\"], [\"telepresenceio/telepresence\", 5982, \"Go\", false, 58, \"Sandbox\"], [\"cortexproject/cortex\", 5175, \"Go\", false, 73, \"Incubating\"], [\"networkservicemesh/api\", 7, \"Go\", false, 4, \"Sandbox\"], [\"crossplane/crossplane\", 7416, \"Go\", false, 29, \"Incubating\"], [\"devstream-io/devstream\", 808, \"Go\", false, 7, \"Sandbox\"], [\"ko-build/ko\", 6286, \"Go\", false, 18, \"Sandbox\"], [\"keycloak/keycloak\", 17207, \"Java\", false, 0, \"Incubating\"], [\"nats-io/nats-server\", 13442, \"Go\", false, 10, \"Incubating\"], [\"kumahq/kuma\", 3276, \"Go\", false, 83, \"Sandbox\"], [\"piraeusdatastore/piraeus-operator\", 284, \"Go\", false, 18, \"Sandbox\"], [\"getsops/sops\", 13642, \"Go\", false, 40, \"Sandbox\"], [\"GoogleContainerTools/kpt\", 1537, \"Go\", false, 35, \"Sandbox\"], [\"longhorn/longhorn\", 4958, \"Shell\", false, 0, \"Incubating\"], [\"kedacore/keda\", 6743, \"Go\", false, 86, \"Graduated\"], [\"kubeovn/kube-ovn\", 1651, \"Go\", false, 49, \"Sandbox\"], [\"foniod/foniod\", 405, \"Rust\", true, 0, \"Sandbox\"], [\"nocalhost/nocalhost\", 1667, \"Go\", false, 82, \"Sandbox\"], [\"sealerio/sealer\", 1910, \"Go\", false, 55, \"Sandbox\"], [\"kubereboot/kured\", 1906, \"Go\", false, 14, \"Sandbox\"], [\"etcd-io/etcd\", 44339, \"Go\", false, 21, \"Graduated\"], [\"chaos-mesh/chaos-mesh\", 5909, \"Go\", false, 84, \"Incubating\"], [\"v6d-io/v6d\", 739, \"C++\", false, 0, \"Sandbox\"], [\"FabEdge/fabedge\", 495, \"Go\", false, 31, \"Sandbox\"], [\"opencost/opencost\", 4050, \"Go\", false, 57, \"Sandbox\"], [\"sustainable-computing-io/kepler\", 600, \"Go\", false, 20, \"Sandbox\"], [\"dragonflyoss/Dragonfly2\", 1554, \"Go\", false, 88, \"Incubating\"], [\"servicemeshinterface/smi-spec\", 1043, \"Makefile\", false, 0, \"Sandbox\"], [\"kubevela/kubevela\", 5549, \"Go\", false, 92, \"Incubating\"], [\"kubedl-io/kubedl\", 437, \"Go\", false, 37, \"Sandbox\"], [\"oras-project/oras\", 1045, \"Go\", false, 9, \"Sandbox\"], [\"OpenFunction/OpenFunction\", 1239, \"Go\", false, 17, \"Sandbox\"], [\"kubewarden/kubewarden-controller\", 140, \"Go\", false, 14, \"Sandbox\"], [\"cri-o/cri-o\", 4722, \"Go\", false, 81, \"Graduated\"], [\"in-toto/in-toto\", 752, \"Python\", false, 0, \"Incubating\"], [\"openkruise/kruise\", 4048, \"Go\", false, 39, \"Incubating\"], [\"carvel-dev/ytt\", 1464, \"Go\", false, 11, \"Sandbox\"], [\"buildpacks/pack\", 2112, \"Go\", false, 35, \"Incubating\"], [\"AthenZ/athenz\", 795, \"Java\", false, 0, \"Sandbox\"], [\"kubescape/kubescape\", 8812, \"Go\", false, 50, \"Sandbox\"], [\"clusternet/clusternet\", 1210, \"Go\", false, 38, \"Sandbox\"], [\"spiffe/spiffe\", 1283, \"Shell\", false, 0, \"Graduated\"], [\"kudobuilder/kudo\", 1118, \"Go\", false, 29, \"Sandbox\"], [\"paralus/paralus\", 817, \"Go\", false, 48, \"Sandbox\"], [\"eraser-dev/eraser\", 240, \"Go\", false, 26, \"Sandbox\"], [\"coredns/coredns\", 11007, \"Go\", false, 35, \"Graduated\"], [\"kube-vip/kube-vip\", 1411, \"Go\", false, 26, \"Sandbox\"], [\"openelb/openelb\", 1409, \"Go\", false, 27, \"Sandbox\"], [\"inspektor-gadget/inspektor-gadget\", 1532, \"C\", false, 0, \"Sandbox\"], [\"tremor-rs/tremor-runtime\", 768, \"Rust\", false, 0, \"Sandbox\"], [\"skooner-k8s/skooner\", 1144, \"JavaScript\", false, 0, \"Sandbox\"], [\"krustlet/krustlet\", 3475, \"Rust\", false, 0, \"Sandbox\"], [\"project-akri/akri\", 990, \"Rust\", false, 0, \"Sandbox\"], [\"armadaproject/armada\", 352, \"Go\", false, 80, \"Sandbox\"], [\"xline-kv/Xline\", 311, \"Rust\", false, 0, \"Sandbox\"], [\"goharbor/harbor\", 20724, \"Go\", false, 0, \"Graduated\"], [\"kubevirt/kubevirt\", 4451, \"Go\", false, 81, \"Incubating\"], [\"cni-genie/CNI-Genie\", 511, \"Go\", false, 0, \"Sandbox\"], [\"kyverno/kyverno\", 4320, \"Go\", false, 87, \"Incubating\"], [\"WasmEdge/WasmEdge\", 6545, \"C++\", false, 0, \"Sandbox\"], [\"wasmCloud/wasmCloud\", 993, \"Rust\", false, 0, \"Sandbox\"], [\"hwameistor/hwameistor\", 428, \"Go\", false, 40, \"Sandbox\"], [\"vitessio/vitess\", 16684, \"Go\", false, 87, \"Graduated\"], [\"helm/helm\", 24864, \"Go\", false, 43, \"Graduated\"], [\"virtual-kubelet/virtual-kubelet\", 3901, \"Go\", false, 30, \"Sandbox\"], [\"open-telemetry/opentelemetry-java\", 1622, \"Java\", false, 0, \"Incubating\"], [\"keptn/keptn\", 1787, \"Go\", false, 0, \"Incubating\"], [\"artifacthub/hub\", 1349, \"TypeScript\", false, 0, \"Sandbox\"], [\"krator-rs/krator\", 132, \"Rust\", false, 0, \"Sandbox\"], [\"kubearmor/KubeArmor\", 803, \"Go\", false, 0, \"Sandbox\"], [\"tikv/tikv\", 13502, \"Rust\", false, 0, \"Graduated\"], [\"argoproj/argo-cd\", 13939, \"Go\", false, 101, \"Graduated\"], [\"schemahero/schemahero\", 836, \"Go\", false, 24, \"Sandbox\"], [\"karmada-io/karmada\", 3481, \"Go\", false, 52, \"Sandbox\"], [\"superedge/superedge\", 950, \"Go\", false, 37, \"Sandbox\"], [\"devfile/api\", 186, \"Go\", false, 13, \"Sandbox\"], [\"openfga/openfga\", 1426, \"Go\", false, 40, \"Sandbox\"], [\"containerd/containerd\", 14696, \"Go\", false, 74, \"Graduated\"], [\"litmuschaos/litmus\", 3800, \"Go\", false, 0, \"Incubating\"], [\"bfenetworks/bfe\", 5934, \"Go\", false, 28, \"Sandbox\"], [\"openyurtio/openyurt\", 1519, \"Go\", false, 45, \"Sandbox\"], [\"cert-manager/cert-manager\", 10656, \"Go\", false, 46, \"Incubating\"], [\"cncf/tag-app-delivery\", 637, \"HTML\", false, 0, \"Sandbox\"], [\"cilium/cilium\", 16305, \"Go\", false, 118, \"Incubating\"], [\"kubeclipper/kubeclipper\", 216, \"Go\", false, 60, \"Sandbox\"], [\"rook/rook\", 11249, \"Go\", false, 37, \"Graduated\"], [\"OpenObservability/OpenMetrics\", 2133, \"Go\", false, 0, \"Incubating\"], [\"falcosecurity/falco\", 6240, \"C++\", false, 0, \"Incubating\"], [\"k8up-io/k8up\", 444, \"Go\", false, 18, \"Sandbox\"], [\"kube-rs/kube-rs\", 2310, \"Rust\", false, 0, \"Sandbox\"], [\"knative/serving\", 5087, \"Go\", false, 34, \"Incubating\"], [\"open-feature/spec\", 356, \"Python\", false, 0, \"Sandbox\"], [\"projectcontour/contour\", 3485, \"Go\", false, 40, \"Incubating\"], [\"cdk8s-team/cdk8s\", 3781, \"JavaScript\", false, 0, \"Sandbox\"], [\"emissary-ingress/emissary\", 4141, \"Python\", false, 0, \"Incubating\"], [\"service-mesh-performance/service-mesh-performance\", 256, \"Makefile\", false, 0, \"Sandbox\"], [\"inclavare-containers/inclavare-containers\", 553, \"C\", false, 0, \"Sandbox\"], [\"cubefs/cubefs\", 3609, \"Go\", false, 39, \"Incubating\"], [\"cloud-custodian/cloud-custodian\", 4923, \"Python\", false, 0, \"Incubating\"], [\"microcks/microcks\", 922, \"Java\", false, 0, \"Sandbox\"], [\"rkt/rkt\", 8842, \"Go\", true, 0, \"Archived\"], [\"theupdateframework/python-tuf\", 1534, \"Python\", false, 0, \"Graduated\"], [\"thanos-io/thanos\", 12045, \"Go\", false, 91, \"Incubating\"], [\"fluxcd/flux2\", 5220, \"Go\", false, 53, \"Graduated\"], [\"k8gb-io/k8gb\", 630, \"Go\", false, 20, \"Sandbox\"], [\"chaosblade-io/chaosblade\", 5473, \"Go\", false, 15, \"Sandbox\"], [\"metallb/metallb\", 6033, \"Go\", false, 22, \"Sandbox\"], [\"tellerops/teller\", 1820, \"Go\", false, 42, \"Sandbox\"], [\"ContainerSSH/ContainerSSH\", 2388, \"Go\", false, 5, \"Sandbox\"], [\"kubeflow/kubeflow\", 12910, \"TypeScript\", false, 0, \"Incubating\"], [\"grpc/grpc\", 38812, \"C++\", false, 0, \"Incubating\"], [\"notaryproject/notation\", 204, \"Go\", false, 10, \"Incubating\"], [\"tinkerbell/tink\", 801, \"Go\", false, 31, \"Sandbox\"], [\"external-secrets/external-secrets\", 3049, \"Go\", false, 78, \"Sandbox\"], [\"werf/werf\", 3745, \"Go\", false, 87, \"Sandbox\"], [\"volcano-sh/volcano\", 3282, \"Go\", false, 36, \"Incubating\"], [\"istio/istio\", 33570, \"Go\", false, 115, \"Graduated\"], [\"jaegertracing/jaeger\", 18175, \"Go\", false, 71, \"Graduated\"], [\"serverlessworkflow/specification\", 616, \"Makefile\", false, 0, \"Sandbox\"], [\"metal3-io/baremetal-operator\", 456, \"Go\", false, 19, \"Sandbox\"], [\"submariner-io/submariner\", 2196, \"Go\", false, 25, \"Sandbox\"], [\"open-cluster-management-io/api\", 226, \"Go\", false, 19, \"Sandbox\"], [\"opcr-io/policy\", 168, \"Go\", false, 25, \"Sandbox\"], [\"linkerd/linkerd2\", 9819, \"Go\", false, 50, \"Graduated\"], [\"pravega/pravega\", 1899, \"Java\", false, 0, \"Sandbox\"], [\"dapr/dapr\", 21796, \"Go\", false, 75, \"Incubating\"], [\"slimtoolkit/slim\", 17144, \"Go\", false, 34, \"Sandbox\"], [\"opentracing/opentracing-go\", 3481, \"Go\", true, 1, \"Archived\"], [\"distribution/distribution\", 7790, \"Go\", false, 26, \"Sandbox\"], [\"trickstercache/trickster\", 1902, \"Go\", false, 24, \"Sandbox\"], [\"pixie-io/pixie\", 4795, \"C++\", false, 0, \"Sandbox\"], [\"Serverless-Devs/Serverless-Devs\", 1550, \"TypeScript\", false, 0, \"Sandbox\"], [\"k3s-io/k3s\", 24292, \"Go\", false, 76, \"Sandbox\"], [\"fluid-cloudnative/fluid\", 1382, \"Go\", false, 32, \"Sandbox\"], [\"konveyor/tackle2-operator\", 18, \"Jinja\", false, 0, \"Sandbox\"]];\n",
       "        // Display the table\n",
       "        $(document).ready(function () {\n",
       "            window.dataTablePromise.then(() => {\n",
       "                // Define the dt_args\n",
       "                let dt_args = {\"order\": []};\n",
       "                dt_args[\"data\"] = data;\n",
       "\n",
       "                \n",
       "                $('#f8167a35-94a5-48c0-b558-31cf0c3fe896').DataTable(dt_args);\n",
       "            });\n",
       "        })\n",
       "    }\n",
       "</script>\n",
       "</div>\n"
      ],
      "text/plain": [
       "                                repo  stars    language  archived  \\\n",
       "0                brigadecore/brigade   2384          Go     False   \n",
       "1                    openebs/openebs   8285         NaN     False   \n",
       "2     strimzi/strimzi-kafka-operator   3996        Java     False   \n",
       "3              curiefense/curiefense    661        Rust     False   \n",
       "4                    meshery/meshery   2898          Go     False   \n",
       "..                               ...    ...         ...       ...   \n",
       "166                   pixie-io/pixie   4795         C++     False   \n",
       "167  Serverless-Devs/Serverless-Devs   1550  TypeScript     False   \n",
       "168                       k3s-io/k3s  24292          Go     False   \n",
       "169          fluid-cloudnative/fluid   1382          Go     False   \n",
       "170        konveyor/tackle2-operator     18       Jinja     False   \n",
       "\n",
       "     dependencies    status  \n",
       "0               0  Archived  \n",
       "1               0   Sandbox  \n",
       "2               0   Sandbox  \n",
       "3               0   Sandbox  \n",
       "4              59   Sandbox  \n",
       "..            ...       ...  \n",
       "166             0   Sandbox  \n",
       "167             0   Sandbox  \n",
       "168            76   Sandbox  \n",
       "169            32   Sandbox  \n",
       "170             0   Sandbox  \n",
       "\n",
       "[171 rows x 6 columns]"
      ]
     },
     "execution_count": 12,
     "metadata": {},
     "output_type": "execute_result"
    }
   ],
   "source": [
    "df = pd.read_csv('analysis-30-08-2023.csv')\n",
    "df"
   ]
  },
  {
   "cell_type": "code",
   "execution_count": null,
   "metadata": {},
   "outputs": [],
   "source": []
  }
 ],
 "metadata": {
  "kernelspec": {
   "display_name": "Python 3",
   "language": "python",
   "name": "python3"
  },
  "language_info": {
   "codemirror_mode": {
    "name": "ipython",
    "version": 3
   },
   "file_extension": ".py",
   "mimetype": "text/x-python",
   "name": "python",
   "nbconvert_exporter": "python",
   "pygments_lexer": "ipython3",
   "version": "3.11.2"
  },
  "orig_nbformat": 4
 },
 "nbformat": 4,
 "nbformat_minor": 2
}
